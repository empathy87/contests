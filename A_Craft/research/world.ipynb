{
 "cells": [
  {
   "cell_type": "code",
   "execution_count": 8,
   "metadata": {},
   "outputs": [],
   "source": [
    "import numpy as np\n",
    "import sys\n",
    "sys.path.append('../solution')\n",
    "from test_cases import TEST_CASES\n",
    "from world import calc_score, MOVES, roll_coordinates, get_neighbours, apply_to_map, find_disjoint_components\n",
    "from solver import HC_1NB_CELLS, find_variants_for_mc\n",
    "import time"
   ]
  },
  {
   "cell_type": "code",
   "execution_count": 9,
   "metadata": {},
   "outputs": [
    {
     "name": "stdout",
     "output_type": "stream",
     "text": [
      "###################\n",
      "#...#...#...#...###\n",
      "#...#...#...#...###\n",
      "#...#...#...#...###\n",
      "###################\n",
      "#...#...#...#...###\n",
      "#...#...#...#...###\n",
      "#...#...#...#...###\n",
      "###################\n",
      "###################\n"
     ]
    }
   ],
   "source": [
    "_map, robots = TEST_CASES[9]\n",
    "print(_map)\n",
    "_map = np.array([list(l) for l in _map.split('\\n')])"
   ]
  },
  {
   "cell_type": "code",
   "execution_count": 73,
   "metadata": {},
   "outputs": [],
   "source": [
    "components = find_disjoint_components(_map, robots)\n",
    "p2c = {}\n",
    "for i, cmp in enumerate(components):\n",
    "    for p in cmp[1]:\n",
    "        p2c[p] = i\n",
    "variants = find_variants_for_mc(_map)"
   ]
  },
  {
   "cell_type": "code",
   "execution_count": 74,
   "metadata": {},
   "outputs": [],
   "source": [
    "variants_splitted = [[] for i in range(len(components))]\n",
    "for v in variants:\n",
    "    if v[0] in p2c:\n",
    "        variants_splitted[p2c[v[0]]].append(v)"
   ]
  },
  {
   "cell_type": "code",
   "execution_count": 75,
   "metadata": {},
   "outputs": [],
   "source": [
    "scores = [calc_score(_map, c[0]) for c in components]\n",
    "results = [[]] * len(components)\n",
    "ds = [dict((v[0], '') for v in variants) for variants in variants_splitted]"
   ]
  },
  {
   "cell_type": "code",
   "execution_count": 80,
   "metadata": {},
   "outputs": [],
   "source": [
    "start_time = time.time()\n",
    "while True:\n",
    "    elapsed_time = time.time() - start_time\n",
    "    if elapsed_time > 0.8:\n",
    "        break\n",
    "    for i in range(len(components)):\n",
    "        variants = variants_splitted[i]\n",
    "        d = ds[i]\n",
    "        for v in variants:\n",
    "            d[v[0]] = v[1][np.random.randint(0, len(v[1]))]\n",
    "        sc = calc_score(_map, components[i][0], d)\n",
    "        if sc > scores[i]:\n",
    "            result = []\n",
    "            for k in d:\n",
    "                if d[k] != '':\n",
    "                    result.append((k[0], k[1], d[k]))\n",
    "            scores[i] = sc\n",
    "            results[i] = result"
   ]
  },
  {
   "cell_type": "code",
   "execution_count": 81,
   "metadata": {},
   "outputs": [
    {
     "data": {
      "text/plain": [
       "[11, 10, 10, 11, 10, 10, 10, 10]"
      ]
     },
     "execution_count": 81,
     "metadata": {},
     "output_type": "execute_result"
    }
   ],
   "source": [
    "scores"
   ]
  },
  {
   "cell_type": "code",
   "execution_count": null,
   "metadata": {},
   "outputs": [],
   "source": []
  }
 ],
 "metadata": {
  "kernelspec": {
   "display_name": "Python 3.6 (with Tensorflow GPU)",
   "language": "python",
   "name": "tensorflow"
  },
  "language_info": {
   "codemirror_mode": {
    "name": "ipython",
    "version": 3
   },
   "file_extension": ".py",
   "mimetype": "text/x-python",
   "name": "python",
   "nbconvert_exporter": "python",
   "pygments_lexer": "ipython3",
   "version": "3.6.4"
  }
 },
 "nbformat": 4,
 "nbformat_minor": 2
}
