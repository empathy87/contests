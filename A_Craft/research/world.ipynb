{
 "cells": [
  {
   "cell_type": "code",
   "execution_count": 1,
   "metadata": {},
   "outputs": [],
   "source": [
    "import numpy as np\n",
    "import sys\n",
    "sys.path.append('../solution')\n",
    "from test_cases import TEST_CASES\n",
    "from world import calc_score, MOVES, roll_coordinates, get_neighbours, apply_to_map, find_disjoint_components, update_direction\n",
    "from solver import HC_1NB_CELLS, find_variants_for_mc, move_till_hp_or_death, move_till_hp_or_death2\n",
    "import time"
   ]
  },
  {
   "cell_type": "code",
   "execution_count": 12,
   "metadata": {},
   "outputs": [
    {
     "name": "stdout",
     "output_type": "stream",
     "text": [
      "#........L........#\n",
      "#........R........#\n",
      "#........L........#\n",
      "#........R........#\n",
      "#DUDUDUDU#UDUDUDUD#\n",
      "#........R........#\n",
      "#........L........#\n",
      "#........R........#\n",
      "#........L........#\n",
      "###################\n"
     ]
    }
   ],
   "source": [
    "_map, robots = TEST_CASES[29]\n",
    "print(_map)\n",
    "_map = np.array([list(l) for l in _map.split('\\n')])"
   ]
  },
  {
   "cell_type": "code",
   "execution_count": 28,
   "metadata": {},
   "outputs": [],
   "source": [
    "variants = find_variants_for_mc(_map)\n",
    "hot_points = {}\n",
    "for v in variants:\n",
    "    hot_points[v[0]] = v[1]\n",
    "arrows = {}"
   ]
  },
  {
   "cell_type": "code",
   "execution_count": 29,
   "metadata": {},
   "outputs": [],
   "source": [
    "is_live = []\n",
    "states = []\n",
    "visited = []\n",
    "for x, y, d in robots:\n",
    "    states.append((x, y, d))\n",
    "    visited.append(set())\n",
    "    is_live.append(True)"
   ]
  },
  {
   "cell_type": "code",
   "execution_count": 30,
   "metadata": {},
   "outputs": [],
   "source": [
    "def rec(x, y, d, lv, _map, visited, arrows, hot_points, depth):\n",
    "    if depth == 5 or not lv:\n",
    "        return None, lv, len(visited)\n",
    "\n",
    "    sp = (x, y)\n",
    "    if sp in hot_points:\n",
    "        hot_point = hot_points[sp]\n",
    "        del hot_points[sp]\n",
    "        _max = (False, 0)\n",
    "        _wmax = None\n",
    "        for w in hot_point:\n",
    "            arrows[sp] = w\n",
    "            _x, _y, _d, _lv, _vs = move_till_hp_or_death2(x, y, d, _map, visited, arrows, hot_points)\n",
    "            e1, e2, e3 = rec(_x, _y, _d, _lv, _map, visited.union(_vs), arrows, hot_points, depth + 1)\n",
    "            r = (e2, e3)\n",
    "            if r > _max:\n",
    "                _wmax, _max = w, r\n",
    "            del arrows[sp]\n",
    "        hot_points[sp] = hot_point\n",
    "        return _wmax, _max[0], _max[1]\n",
    "    else:\n",
    "        _x, _y, _d, _lv, _vs = move_till_hp_or_death2(x, y, d, _map, visited, arrows, hot_points)\n",
    "        return None, rec(_x, _y, _d, _lv, _map, visited.union(_vs), arrows, hot_points, depth + 1)\n"
   ]
  },
  {
   "cell_type": "code",
   "execution_count": 31,
   "metadata": {},
   "outputs": [],
   "source": [
    "    while any(is_live):\n",
    "        for i in range(len(robots)):\n",
    "            x, y, d = states[i]\n",
    "            sp = (x, y)\n",
    "            if sp in hot_points:\n",
    "                w, _, _ = rec(x, y, d, is_live[i], _map, visited[i], arrows, hot_points, 0)                \n",
    "                hot_point = hot_points[sp]\n",
    "                del hot_points[sp]\n",
    "                arrows[sp] = w\n",
    "                x, y, d, is_live[i], new_visited_states = move_till_hp_or_death2(x, y, d, _map, visited[i], arrows, hot_points)\n",
    "            else:\n",
    "                x, y, d, is_live[i], new_visited_states = move_till_hp_or_death2(x, y, d, _map, visited[i], arrows, hot_points)\n",
    "            visited[i] = visited[i].union(new_visited_states)\n",
    "            states[i] = (x, y, d)"
   ]
  },
  {
   "cell_type": "code",
   "execution_count": 34,
   "metadata": {},
   "outputs": [
    {
     "data": {
      "text/plain": [
       "'1 0 D 17 0 D 1 8 U 17 8 U 1 1 R 1 7 R 17 2 L 17 6 L 10 1 U 10 7 D 10 0 L 10 8 L 8 0 D 1 2 U 8 8 U 1 6 D 8 3 R 8 5 R 10 5 U 12 3 U 12 0 L 11 0 D 11 8 R 12 8 U 12 5 R 13 5 D 13 8 R 14 8 U 14 0 L 13 0 D 13 3 R 16 3 U 16 0 L 15 0 D 15 8 R 16 8 U 16 5 R 17 5 D '"
      ]
     },
     "execution_count": 34,
     "metadata": {},
     "output_type": "execute_result"
    }
   ],
   "source": [
    "txt = ''\n",
    "for e in arrows:\n",
    "    if arrows[e] != '':\n",
    "        txt += f'{e[0]} {e[1]} {arrows[e]} '\n",
    "txt"
   ]
  },
  {
   "cell_type": "code",
   "execution_count": null,
   "metadata": {},
   "outputs": [],
   "source": []
  }
 ],
 "metadata": {
  "kernelspec": {
   "display_name": "Python 3.6 (with Tensorflow GPU)",
   "language": "python",
   "name": "tensorflow"
  },
  "language_info": {
   "codemirror_mode": {
    "name": "ipython",
    "version": 3
   },
   "file_extension": ".py",
   "mimetype": "text/x-python",
   "name": "python",
   "nbconvert_exporter": "python",
   "pygments_lexer": "ipython3",
   "version": "3.6.4"
  }
 },
 "nbformat": 4,
 "nbformat_minor": 2
}
