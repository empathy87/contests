{
 "cells": [
  {
   "cell_type": "code",
   "execution_count": 1,
   "metadata": {},
   "outputs": [],
   "source": [
    "import numpy as np\n",
    "import sys\n",
    "sys.path.append('../solution')\n",
    "from test_cases import TEST_CASES\n",
    "from world import calc_score, MOVES, roll_coordinates, get_neighbours"
   ]
  },
  {
   "cell_type": "code",
   "execution_count": 2,
   "metadata": {},
   "outputs": [],
   "source": [
    "_map, robots = TEST_CASES[0]\n",
    "_map = np.array([list(l) for l in _map.split('\\n')])"
   ]
  },
  {
   "cell_type": "code",
   "execution_count": 7,
   "metadata": {},
   "outputs": [
    {
     "name": "stdout",
     "output_type": "stream",
     "text": [
      "[(3, 4, 'R'), (14, 4, 'L')]\n"
     ]
    }
   ],
   "source": [
    "hard_coded_directions = []\n",
    "for y, x in np.argwhere(_map == '.'):\n",
    "    nb = get_neighbours(_map, x, y)\n",
    "    nb_ground = [e for e in nb if e[4] == False]\n",
    "    if len(nb_ground) == 0:\n",
    "        hard_coded_directions.append((x, y, 'U'))\n",
    "    if len(nb_ground) == 1:\n",
    "        hard_coded_directions.append((x, y, nb_ground[0][0]))\n",
    "print(hard_coded_directions)"
   ]
  },
  {
   "cell_type": "code",
   "execution_count": null,
   "metadata": {},
   "outputs": [],
   "source": []
  }
 ],
 "metadata": {
  "kernelspec": {
   "display_name": "Python 3.6 (with Tensorflow GPU)",
   "language": "python",
   "name": "tensorflow"
  },
  "language_info": {
   "codemirror_mode": {
    "name": "ipython",
    "version": 3
   },
   "file_extension": ".py",
   "mimetype": "text/x-python",
   "name": "python",
   "nbconvert_exporter": "python",
   "pygments_lexer": "ipython3",
   "version": "3.6.4"
  }
 },
 "nbformat": 4,
 "nbformat_minor": 2
}
