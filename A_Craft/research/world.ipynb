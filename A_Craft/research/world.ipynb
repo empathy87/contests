{
 "cells": [
  {
   "cell_type": "code",
   "execution_count": 1,
   "metadata": {},
   "outputs": [],
   "source": [
    "import numpy as np\n",
    "import sys\n",
    "sys.path.append('../solution')\n",
    "from test_cases import TEST_CASES\n",
    "from world import calc_score, MOVES, roll_coordinates, get_neighbours, apply_to_map, find_disjoint_components, update_direction\n",
    "from solver import HC_1NB_CELLS, find_variants_for_mc\n",
    "import time"
   ]
  },
  {
   "cell_type": "code",
   "execution_count": 2,
   "metadata": {},
   "outputs": [
    {
     "name": "stdout",
     "output_type": "stream",
     "text": [
      "#........L........#\n",
      "#........R........#\n",
      "#........L........#\n",
      "#........R........#\n",
      "#DUDUDUDU#UDUDUDUD#\n",
      "#........R........#\n",
      "#........L........#\n",
      "#........R........#\n",
      "#........L........#\n",
      "###################\n"
     ]
    }
   ],
   "source": [
    "_map, robots = TEST_CASES[29]\n",
    "print(_map)\n",
    "_map = np.array([list(l) for l in _map.split('\\n')])"
   ]
  },
  {
   "cell_type": "code",
   "execution_count": 12,
   "metadata": {},
   "outputs": [],
   "source": [
    "variants = find_variants_for_mc(_map)\n",
    "hot_points = {}\n",
    "for v in variants:\n",
    "    hot_points[v[0]] = v[1]\n",
    "arrows = {}"
   ]
  },
  {
   "cell_type": "code",
   "execution_count": 13,
   "metadata": {},
   "outputs": [],
   "source": [
    "def move_till_hp_or_death(w, x, y, d, _map, visited_states, arrows, hot_points):\n",
    "    sp = (x, y)\n",
    "    arrows[sp] = w\n",
    "    x, y, d, is_live, new_visited_states = move_till_hp_or_death2(x, y, d, _map,  visited_states, arrows, hot_points)\n",
    "    del arrows[sp]\n",
    "    return w, x, y, d, is_live, new_visited_states\n",
    "\n",
    "\n",
    "def move_till_hp_or_death2(x, y, d, _map, visited_states, arrows, hot_points):\n",
    "    new_visited_states = set()\n",
    "    d = update_direction(_map, x, y, d, arrows)\n",
    "    is_live = True\n",
    "    while is_live and (x, y) not in hot_points:\n",
    "        new_visited_states.add((x, y, d))\n",
    "        x += MOVES[d][0]\n",
    "        y += MOVES[d][1]\n",
    "        x, y = roll_coordinates(x, y)\n",
    "        d = update_direction(_map, x, y, d, arrows)\n",
    "        is_live = _map[y, x] != '#' and (x, y, d) not in visited_states and (x, y, d) not in new_visited_states\n",
    "    return x, y, d, is_live, new_visited_states"
   ]
  },
  {
   "cell_type": "code",
   "execution_count": 14,
   "metadata": {},
   "outputs": [],
   "source": [
    "is_live = []\n",
    "states = []\n",
    "visited = []\n",
    "for x, y, d in robots:\n",
    "    states.append((x, y, d))\n",
    "    visited.append(set())\n",
    "    is_live.append(True)"
   ]
  },
  {
   "cell_type": "code",
   "execution_count": 15,
   "metadata": {},
   "outputs": [],
   "source": [
    "while any(is_live):\n",
    "    for i in range(len(robots)):\n",
    "        x, y, d = states[i]\n",
    "        sp = (x, y)\n",
    "        if sp in hot_points:            \n",
    "            hot_point = hot_points[sp]\n",
    "            del hot_points[sp]\n",
    "            ways = []\n",
    "            for w in hot_point:\n",
    "                if w == '':\n",
    "                    continue\n",
    "                ways.append(move_till_hp_or_death(w, x, y, d, _map, visited[i], arrows, hot_points))\n",
    "            w, x, y, d, is_live[i], new_visited_states = max(ways, key=lambda x: (x[4], len(x[5])))\n",
    "            arrows[sp] = w    \n",
    "        else:\n",
    "            x, y, d, is_live[i], new_visited_states = move_till_hp_or_death2(x, y, d, _map, visited[i], arrows, hot_points)\n",
    "        visited[i] = visited[i].union(new_visited_states)\n",
    "        states[i] = (x, y, d)"
   ]
  },
  {
   "cell_type": "code",
   "execution_count": 16,
   "metadata": {},
   "outputs": [
    {
     "data": {
      "text/plain": [
       "'1 0 D 17 0 D 1 8 U 17 8 U 1 1 R 17 1 D 1 7 R 17 7 U 17 2 L 17 6 L 1 2 D 1 6 U 1 3 R 1 5 R 17 3 D 17 5 L '"
      ]
     },
     "execution_count": 16,
     "metadata": {},
     "output_type": "execute_result"
    }
   ],
   "source": [
    "txt = ''\n",
    "for e in arrows:\n",
    "    txt += f'{e[0]} {e[1]} {arrows[e]} '\n",
    "txt"
   ]
  },
  {
   "cell_type": "code",
   "execution_count": null,
   "metadata": {},
   "outputs": [],
   "source": []
  }
 ],
 "metadata": {
  "kernelspec": {
   "display_name": "Python 3.6 (with Tensorflow GPU)",
   "language": "python",
   "name": "tensorflow"
  },
  "language_info": {
   "codemirror_mode": {
    "name": "ipython",
    "version": 3
   },
   "file_extension": ".py",
   "mimetype": "text/x-python",
   "name": "python",
   "nbconvert_exporter": "python",
   "pygments_lexer": "ipython3",
   "version": "3.6.4"
  }
 },
 "nbformat": 4,
 "nbformat_minor": 2
}
