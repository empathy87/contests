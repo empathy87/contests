{
 "cells": [
  {
   "cell_type": "code",
   "execution_count": 1,
   "metadata": {},
   "outputs": [],
   "source": [
    "import numpy as np\n",
    "import sys\n",
    "sys.path.append('../solution')\n",
    "from test_cases import TEST_CASES\n",
    "from world import calc_score, MOVES, roll_coordinates, get_neighbours, apply_to_map\n",
    "from solver import HC_1NB_CELLS\n",
    "import time"
   ]
  },
  {
   "cell_type": "code",
   "execution_count": 2,
   "metadata": {},
   "outputs": [
    {
     "name": "stdout",
     "output_type": "stream",
     "text": [
      "###################\n",
      "###################\n",
      "###################\n",
      "########...########\n",
      "########...########\n",
      "########...########\n",
      "###################\n",
      "###################\n",
      "###################\n",
      "###################\n"
     ]
    }
   ],
   "source": [
    "_map, robots = TEST_CASES[4]\n",
    "print(_map)\n",
    "_map = np.array([list(l) for l in _map.split('\\n')])"
   ]
  },
  {
   "cell_type": "code",
   "execution_count": 3,
   "metadata": {},
   "outputs": [
    {
     "name": "stdout",
     "output_type": "stream",
     "text": [
      "3\n"
     ]
    }
   ],
   "source": [
    "solution_part1 = HC_1NB_CELLS(_map)\n",
    "apply_to_map(_map, solution_part1)\n",
    "score = calc_score(_map, robots)\n",
    "print(score)"
   ]
  },
  {
   "cell_type": "code",
   "execution_count": 4,
   "metadata": {},
   "outputs": [
    {
     "name": "stdout",
     "output_type": "stream",
     "text": [
      "[((8, 3), ['D', 'R']), ((9, 3), ['', 'D', 'R', 'L']), ((10, 3), ['D', 'L']), ((8, 4), ['', 'U', 'D', 'R']), ((10, 4), ['', 'U', 'D', 'L']), ((8, 5), ['U', 'R']), ((9, 5), ['', 'U', 'R', 'L']), ((10, 5), ['U', 'L'])]\n"
     ]
    }
   ],
   "source": [
    "variants = []\n",
    "for y, x in np.argwhere(_map == '.'):\n",
    "    nb = get_neighbours(_map, x, y)\n",
    "    hot = nb[0][4] != nb[1][4] or nb[2][4] != nb[3][4]\n",
    "    has = nb[0][4] == nb[1][4] or nb[2][4] == nb[3][4]\n",
    "    if not hot:\n",
    "        continue\n",
    "    k = ([], [''])[has] + [e[0] for e in nb if not e[4]]\n",
    "    if len(k) > 0:\n",
    "        variants.append(((x, y), k))\n",
    "print(variants)"
   ]
  },
  {
   "cell_type": "code",
   "execution_count": 5,
   "metadata": {},
   "outputs": [],
   "source": [
    "d = dict((v[0], '') for v in variants)\n",
    "result = []"
   ]
  },
  {
   "cell_type": "code",
   "execution_count": 6,
   "metadata": {},
   "outputs": [],
   "source": [
    "start_time = time.time()\n",
    "while True:\n",
    "    elapsed_time = time.time() - start_time\n",
    "    if elapsed_time > 0.8:\n",
    "        break\n",
    "    for v in variants:\n",
    "        d[v[0]] = v[1][np.random.randint(0, len(v[1]))]\n",
    "    sc = calc_score(_map, robots, d)\n",
    "    if sc > score:\n",
    "        result = []\n",
    "        for k in d:\n",
    "            if d[k] != '':\n",
    "                result.append((k[0], k[1], d[k]))\n",
    "        score = sc"
   ]
  },
  {
   "cell_type": "code",
   "execution_count": 8,
   "metadata": {},
   "outputs": [
    {
     "data": {
      "text/plain": [
       "[(8, 3, 'D'),\n",
       " (9, 3, 'L'),\n",
       " (10, 3, 'D'),\n",
       " (8, 4, 'D'),\n",
       " (8, 5, 'R'),\n",
       " (10, 5, 'U')]"
      ]
     },
     "execution_count": 8,
     "metadata": {},
     "output_type": "execute_result"
    }
   ],
   "source": [
    "result"
   ]
  },
  {
   "cell_type": "code",
   "execution_count": null,
   "metadata": {},
   "outputs": [],
   "source": []
  }
 ],
 "metadata": {
  "kernelspec": {
   "display_name": "Python 3.6 (with Tensorflow GPU)",
   "language": "python",
   "name": "tensorflow"
  },
  "language_info": {
   "codemirror_mode": {
    "name": "ipython",
    "version": 3
   },
   "file_extension": ".py",
   "mimetype": "text/x-python",
   "name": "python",
   "nbconvert_exporter": "python",
   "pygments_lexer": "ipython3",
   "version": "3.6.4"
  }
 },
 "nbformat": 4,
 "nbformat_minor": 2
}
